{
 "cells": [
  {
   "cell_type": "code",
   "execution_count": 174,
   "metadata": {
    "collapsed": false
   },
   "outputs": [],
   "source": [
    "import numpy as np\n",
    "import scipy.misc\n",
    "import scipy.io\n",
    "import matplotlib.pyplot as plt\n",
    "%matplotlib inline"
   ]
  },
  {
   "cell_type": "code",
   "execution_count": 175,
   "metadata": {
    "collapsed": true
   },
   "outputs": [],
   "source": [
    "def n_bib(balls,bins):\n",
    "    return scipy.misc.comb(balls+bins-1,balls)"
   ]
  },
  {
   "cell_type": "code",
   "execution_count": 176,
   "metadata": {
    "collapsed": false
   },
   "outputs": [],
   "source": [
    "def check(T,b):\n",
    "    a = np.where(np.all(T==b,axis=1))\n",
    "    if len(a[0]) > 0:\n",
    "        return a[0][0]\n",
    "    else:\n",
    "        return -1"
   ]
  },
  {
   "cell_type": "code",
   "execution_count": 18,
   "metadata": {
    "collapsed": false
   },
   "outputs": [],
   "source": [
    "def multiarms(n_arms, reward, cost):\n",
    "    global S \n",
    "    S = np.ones((1,n_arms*2)) #All possible states\n",
    "    T1 = np.ones((1,n_arms*2,n_arms)) #Transition matrix for the matrix\n",
    "    \n",
    "    def helper(l, n_arms, i):\n",
    "        global S\n",
    "        \n",
    "        if (i+1)*cost > reward: #If costs are gonna exceed the reward, simulation is over\n",
    "            return\n",
    "        \n",
    "        for j in range(n_arms*2): #Go over every possible outcome\n",
    "            \n",
    "            b = l.copy()\n",
    "            b[j] += 1 #Add an observation\n",
    "#             i = check(T,b) #Check if this state has already been reached elsewhere\n",
    "#             if i == -1:\n",
    "#                 S = np.vstack((S,b)) #Add, if it hasn't been\n",
    "            #Add to the transition matrix\n",
    "            helper(b, n_arms, i+1) #Find the continuing steps from here\n",
    "    helper(S[-1,:],n_arms,0)\n",
    "    return S"
   ]
  },
  {
   "cell_type": "code",
   "execution_count": 25,
   "metadata": {
    "collapsed": false
   },
   "outputs": [
    {
     "data": {
      "text/plain": [
       "array([[ 1.,  1.,  1.,  1.]])"
      ]
     },
     "execution_count": 25,
     "metadata": {},
     "output_type": "execute_result"
    }
   ],
   "source": [
    "multiarms(2,1,0.1)"
   ]
  },
  {
   "cell_type": "code",
   "execution_count": 4,
   "metadata": {
    "collapsed": false,
    "scrolled": true
   },
   "outputs": [],
   "source": [
    "n_arms = 2\n",
    "n_balls = 2\n",
    "S = np.ones((1,n_arms*2)) # All possible states\n",
    "balls = 0\n",
    "ipb = 0 # index of previous basis\n",
    "count_added = 0 # number of states added with the current number of balls\n",
    "while balls < n_balls:\n",
    "    for j in range(count_added+1): # use each of the states added with balls-1 as bases\n",
    "        for i in range(n_arms*2): # Distribute the ball to each bin\n",
    "            new = S[ipb].copy()\n",
    "            new[i] += 1 \n",
    "            S = np.vstack((S,new))\n",
    "            count_added += 1\n",
    "        count_added -= 1\n",
    "        ipb += 1\n",
    "    balls += 1"
   ]
  },
  {
   "cell_type": "code",
   "execution_count": 130,
   "metadata": {
    "collapsed": false
   },
   "outputs": [
    {
     "data": {
      "text/plain": [
       "array([[ 1.,  1.,  1.,  1.],\n",
       "       [ 2.,  1.,  1.,  1.],\n",
       "       [ 1.,  2.,  1.,  1.],\n",
       "       [ 1.,  1.,  2.,  1.],\n",
       "       [ 1.,  1.,  1.,  2.],\n",
       "       [ 3.,  1.,  1.,  1.],\n",
       "       [ 2.,  2.,  1.,  1.],\n",
       "       [ 2.,  1.,  2.,  1.],\n",
       "       [ 2.,  1.,  1.,  2.],\n",
       "       [ 2.,  2.,  1.,  1.],\n",
       "       [ 1.,  3.,  1.,  1.],\n",
       "       [ 1.,  2.,  2.,  1.],\n",
       "       [ 1.,  2.,  1.,  2.],\n",
       "       [ 2.,  1.,  2.,  1.],\n",
       "       [ 1.,  2.,  2.,  1.],\n",
       "       [ 1.,  1.,  3.,  1.],\n",
       "       [ 1.,  1.,  2.,  2.],\n",
       "       [ 2.,  1.,  1.,  2.],\n",
       "       [ 1.,  2.,  1.,  2.],\n",
       "       [ 1.,  1.,  2.,  2.],\n",
       "       [ 1.,  1.,  1.,  3.]])"
      ]
     },
     "execution_count": 130,
     "metadata": {},
     "output_type": "execute_result"
    }
   ],
   "source": [
    "S"
   ]
  },
  {
   "cell_type": "code",
   "execution_count": 184,
   "metadata": {
    "collapsed": false
   },
   "outputs": [],
   "source": [
    "def states(n_balls,n_arms,rewardCorrect=1.0,cost=-1):\n",
    "    if cost == -1:\n",
    "        cost = rewardCorrect/n_balls\n",
    "    S = np.ones((1,n_arms*2)) # All possible states\n",
    "    n_states = int(np.sum([n_bib(i,n_arms*2) for i in range(n_balls+1)])) # Number of al possible states\n",
    "    T1 = np.zeros((n_states+1,n_states+1,n_arms))\n",
    "    balls = 0\n",
    "    ipb = 0 # index of previous basis\n",
    "    count_added = 0 # number of states added with the current number of balls\n",
    "    state_count = 0\n",
    "    while balls < n_balls:\n",
    "        for j in range(count_added+1): # use each of the states added with balls-1 as bases\n",
    "            for i in range(n_arms*2): # Distribute the ball to each bin\n",
    "                new = S[ipb].copy()\n",
    "                \n",
    "                # Get the probability of making this observation\n",
    "                if i%2 == 0:\n",
    "                    p = new[i]/(new[i] + new[i+1])\n",
    "                else:\n",
    "                    p = new[i]/(new[i] + new[i-1])\n",
    "                \n",
    "                # Prepare and add the new state generated by the observation\n",
    "                new[i] += 1 \n",
    "                k = check(S,new)\n",
    "                \n",
    "                if k == -1:\n",
    "                    S = np.vstack((S,new))\n",
    "                    count_added += 1\n",
    "                    state_count += 1\n",
    "                    T1[ipb,state_count,i//2] = p \n",
    "                else:\n",
    "                    T1[ipb,k,i//2] = p\n",
    "            count_added -= 1\n",
    "            ipb += 1\n",
    "        balls += 1\n",
    "        \n",
    "    #Finish preparing the states by adding the terminal state\n",
    "    S = np.vstack((S,-np.ones((1,n_arms*2))))\n",
    "    \n",
    "    t = np.zeros((n_states+1,n_arms))\n",
    "    t[-1,:] = 1\n",
    "    T1[-1] = t\n",
    "    \n",
    "    T2 = np.zeros((n_states+1,n_states+1,1))\n",
    "    T2[:,-1] = 1\n",
    "    \n",
    "    T = np.concatenate((T1,T2),axis=2)\n",
    "    \n",
    "    R = -cost*np.ones((n_states+1,n_arms+1))\n",
    "    p = np.max([[s[2*j]/(s[2*j+1]+s[2*j]) for j in range(n_arms)] for s in S],1)\n",
    "    R[:,-1] = rewardCorrect*p\n",
    "    R[-1,:] = 0\n",
    "    return S,T,R"
   ]
  },
  {
   "cell_type": "code",
   "execution_count": 178,
   "metadata": {
    "collapsed": false
   },
   "outputs": [
    {
     "data": {
      "text/plain": [
       "array([[ 1.,  1.,  1.,  1.],\n",
       "       [ 2.,  1.,  1.,  1.],\n",
       "       [ 1.,  2.,  1.,  1.],\n",
       "       [ 1.,  1.,  2.,  1.],\n",
       "       [ 1.,  1.,  1.,  2.],\n",
       "       [ 3.,  1.,  1.,  1.],\n",
       "       [ 2.,  2.,  1.,  1.],\n",
       "       [ 2.,  1.,  2.,  1.],\n",
       "       [ 2.,  1.,  1.,  2.],\n",
       "       [ 1.,  3.,  1.,  1.],\n",
       "       [ 1.,  2.,  2.,  1.],\n",
       "       [ 1.,  2.,  1.,  2.],\n",
       "       [ 1.,  1.,  3.,  1.],\n",
       "       [ 1.,  1.,  2.,  2.],\n",
       "       [ 1.,  1.,  1.,  3.],\n",
       "       [-1., -1., -1., -1.]])"
      ]
     },
     "execution_count": 178,
     "metadata": {},
     "output_type": "execute_result"
    }
   ],
   "source": [
    "S = states(2,2)[0]\n",
    "S"
   ]
  },
  {
   "cell_type": "code",
   "execution_count": 179,
   "metadata": {
    "collapsed": false
   },
   "outputs": [
    {
     "name": "stdout",
     "output_type": "stream",
     "text": [
      "(36, 36, 3)\n"
     ]
    }
   ],
   "source": [
    "T = states(3,2)[1]\n",
    "print(T.shape)"
   ]
  },
  {
   "cell_type": "code",
   "execution_count": 180,
   "metadata": {
    "collapsed": false
   },
   "outputs": [
    {
     "name": "stdout",
     "output_type": "stream",
     "text": [
      "[[ 0.  0.  0. ...,  0.  0.  1.]\n",
      " [ 0.  0.  0. ...,  0.  0.  1.]\n",
      " [ 0.  0.  0. ...,  0.  0.  1.]\n",
      " ..., \n",
      " [ 0.  0.  0. ...,  0.  0.  1.]\n",
      " [ 0.  0.  0. ...,  0.  0.  1.]\n",
      " [ 0.  0.  0. ...,  0.  0.  1.]]\n"
     ]
    }
   ],
   "source": [
    "T = states(3,2)[1]\n",
    "print(T[:,:,-1])"
   ]
  },
  {
   "cell_type": "code",
   "execution_count": 181,
   "metadata": {
    "collapsed": false
   },
   "outputs": [
    {
     "name": "stdout",
     "output_type": "stream",
     "text": [
      "[[ 0.          0.          0.5       ]\n",
      " [ 0.          0.          0.66666667]\n",
      " [ 0.          0.          0.5       ]\n",
      " [ 0.          0.          0.66666667]\n",
      " [ 0.          0.          0.5       ]\n",
      " [ 0.          0.          0.75      ]\n",
      " [ 0.          0.          0.5       ]\n",
      " [ 0.          0.          0.66666667]\n",
      " [ 0.          0.          0.66666667]\n",
      " [ 0.          0.          0.5       ]\n",
      " [ 0.          0.          0.66666667]\n",
      " [ 0.          0.          0.33333333]\n",
      " [ 0.          0.          0.75      ]\n",
      " [ 0.          0.          0.5       ]\n",
      " [ 0.          0.          0.5       ]\n",
      " [ 0.          0.          0.8       ]\n",
      " [ 0.          0.          0.6       ]\n",
      " [ 0.          0.          0.75      ]\n",
      " [ 0.          0.          0.75      ]\n",
      " [ 0.          0.          0.5       ]\n",
      " [ 0.          0.          0.66666667]\n",
      " [ 0.          0.          0.5       ]\n",
      " [ 0.          0.          0.75      ]\n",
      " [ 0.          0.          0.66666667]\n",
      " [ 0.          0.          0.66666667]\n",
      " [ 0.          0.          0.5       ]\n",
      " [ 0.          0.          0.66666667]\n",
      " [ 0.          0.          0.33333333]\n",
      " [ 0.          0.          0.75      ]\n",
      " [ 0.          0.          0.5       ]\n",
      " [ 0.          0.          0.33333333]\n",
      " [ 0.          0.          0.8       ]\n",
      " [ 0.          0.          0.6       ]\n",
      " [ 0.          0.          0.5       ]\n",
      " [ 0.          0.          0.5       ]\n",
      " [ 0.          0.          0.        ]]\n"
     ]
    }
   ],
   "source": [
    "R = states(3,2)[2]\n",
    "print(R)"
   ]
  },
  {
   "cell_type": "code",
   "execution_count": 185,
   "metadata": {
    "collapsed": false
   },
   "outputs": [
    {
     "data": {
      "text/plain": [
       "8008"
      ]
     },
     "execution_count": 185,
     "metadata": {},
     "output_type": "execute_result"
    }
   ],
   "source": [
    "len(states(10,3)[0])-1"
   ]
  },
  {
   "cell_type": "code",
   "execution_count": 186,
   "metadata": {
    "collapsed": false
   },
   "outputs": [
    {
     "data": {
      "text/plain": [
       "8008.0"
      ]
     },
     "execution_count": 186,
     "metadata": {},
     "output_type": "execute_result"
    }
   ],
   "source": [
    "n_balls = 10\n",
    "n_arms = 3\n",
    "np.sum([n_bib(i,n_arms*2) for i in range(n_balls+1)])"
   ]
  },
  {
   "cell_type": "code",
   "execution_count": 187,
   "metadata": {
    "collapsed": false
   },
   "outputs": [],
   "source": [
    "s = states(10,3)\n",
    "a = {'states':s[0],'transition':s[1],'rewards':s[2]}\n",
    "scipy.io.savemat('./file',a)"
   ]
  }
 ],
 "metadata": {
  "kernelspec": {
   "display_name": "Python 2",
   "language": "python",
   "name": "python2"
  },
  "language_info": {
   "codemirror_mode": {
    "name": "ipython",
    "version": 2
   },
   "file_extension": ".py",
   "mimetype": "text/x-python",
   "name": "python",
   "nbconvert_exporter": "python",
   "pygments_lexer": "ipython2",
   "version": "2.7.11"
  }
 },
 "nbformat": 4,
 "nbformat_minor": 0
}
