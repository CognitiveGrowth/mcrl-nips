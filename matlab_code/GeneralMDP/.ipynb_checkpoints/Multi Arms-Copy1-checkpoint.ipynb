{
 "cells": [
  {
   "cell_type": "code",
   "execution_count": 52,
   "metadata": {
    "collapsed": false
   },
   "outputs": [],
   "source": [
    "import numpy as np\n",
    "import scipy.misc\n",
    "import matplotlib.pyplot as plt\n",
    "%matplotlib inline"
   ]
  },
  {
   "cell_type": "code",
   "execution_count": 53,
   "metadata": {
    "collapsed": true
   },
   "outputs": [],
   "source": [
    "def n_bib(balls,bins):\n",
    "    return scipy.misc.comb(balls+bins-1,balls)"
   ]
  },
  {
   "cell_type": "code",
   "execution_count": 126,
   "metadata": {
    "collapsed": false
   },
   "outputs": [],
   "source": [
    "def check(T,b):\n",
    "    a = np.where(np.all(T==b,axis=1))\n",
    "    if len(a[0]) > 0:\n",
    "        return a[0][0]\n",
    "    else:\n",
    "        return -1"
   ]
  },
  {
   "cell_type": "code",
   "execution_count": 18,
   "metadata": {
    "collapsed": false
   },
   "outputs": [],
   "source": [
    "def multiarms(n_arms, reward, cost):\n",
    "    global S \n",
    "    S = np.ones((1,n_arms*2)) #All possible states\n",
    "    T1 = np.ones((1,n_arms*2,n_arms)) #Transition matrix for the matrix\n",
    "    \n",
    "    def helper(l, n_arms, i):\n",
    "        global S\n",
    "        \n",
    "        if (i+1)*cost > reward: #If costs are gonna exceed the reward, simulation is over\n",
    "            return\n",
    "        \n",
    "        for j in range(n_arms*2): #Go over every possible outcome\n",
    "            \n",
    "            b = l.copy()\n",
    "            b[j] += 1 #Add an observation\n",
    "#             i = check(T,b) #Check if this state has already been reached elsewhere\n",
    "#             if i == -1:\n",
    "#                 S = np.vstack((S,b)) #Add, if it hasn't been\n",
    "            #Add to the transition matrix\n",
    "            helper(b, n_arms, i+1) #Find the continuing steps from here\n",
    "    helper(S[-1,:],n_arms,0)\n",
    "    return S"
   ]
  },
  {
   "cell_type": "code",
   "execution_count": 25,
   "metadata": {
    "collapsed": false
   },
   "outputs": [
    {
     "data": {
      "text/plain": [
       "array([[ 1.,  1.,  1.,  1.]])"
      ]
     },
     "execution_count": 25,
     "metadata": {},
     "output_type": "execute_result"
    }
   ],
   "source": [
    "multiarms(2,1,0.1)"
   ]
  },
  {
   "cell_type": "code",
   "execution_count": 129,
   "metadata": {
    "collapsed": false,
    "scrolled": true
   },
   "outputs": [],
   "source": [
    "n_arms = 2\n",
    "n_balls = 2\n",
    "S = np.ones((1,n_arms*2)) # All possible states\n",
    "balls = 0\n",
    "ipb = 0 # index of previous basis\n",
    "count_added = 0 # number of states added with the current number of balls\n",
    "while balls < n_balls:\n",
    "    for j in range(count_added+1): # use each of the states added with balls-1 as bases\n",
    "        for i in range(n_arms*2): # Distribute the ball to each bin\n",
    "            new = S[ipb].copy()\n",
    "            new[i] += 1 \n",
    "            S = np.vstack((S,new))\n",
    "            count_added += 1\n",
    "        count_added -= 1\n",
    "        ipb += 1\n",
    "    balls += 1"
   ]
  },
  {
   "cell_type": "code",
   "execution_count": 130,
   "metadata": {
    "collapsed": false
   },
   "outputs": [
    {
     "data": {
      "text/plain": [
       "array([[ 1.,  1.,  1.,  1.],\n",
       "       [ 2.,  1.,  1.,  1.],\n",
       "       [ 1.,  2.,  1.,  1.],\n",
       "       [ 1.,  1.,  2.,  1.],\n",
       "       [ 1.,  1.,  1.,  2.],\n",
       "       [ 3.,  1.,  1.,  1.],\n",
       "       [ 2.,  2.,  1.,  1.],\n",
       "       [ 2.,  1.,  2.,  1.],\n",
       "       [ 2.,  1.,  1.,  2.],\n",
       "       [ 2.,  2.,  1.,  1.],\n",
       "       [ 1.,  3.,  1.,  1.],\n",
       "       [ 1.,  2.,  2.,  1.],\n",
       "       [ 1.,  2.,  1.,  2.],\n",
       "       [ 2.,  1.,  2.,  1.],\n",
       "       [ 1.,  2.,  2.,  1.],\n",
       "       [ 1.,  1.,  3.,  1.],\n",
       "       [ 1.,  1.,  2.,  2.],\n",
       "       [ 2.,  1.,  1.,  2.],\n",
       "       [ 1.,  2.,  1.,  2.],\n",
       "       [ 1.,  1.,  2.,  2.],\n",
       "       [ 1.,  1.,  1.,  3.]])"
      ]
     },
     "execution_count": 130,
     "metadata": {},
     "output_type": "execute_result"
    }
   ],
   "source": [
    "S"
   ]
  },
  {
   "cell_type": "code",
   "execution_count": 160,
   "metadata": {
    "collapsed": false
   },
   "outputs": [],
   "source": [
    "def states(n_balls,n_arms):\n",
    "    S = np.ones((1,n_arms*2)) # All possible states\n",
    "    n_states = int(np.sum([n_bib(i,n_arms*2) for i in range(n_balls+1)])) # Number of al possible states\n",
    "    T1 = np.zeros((n_states,n_states))\n",
    "    balls = 0\n",
    "    ipb = 0 # index of previous basis\n",
    "    count_added = 0 # number of states added with the current number of balls\n",
    "    state_count = 0\n",
    "    while balls < n_balls:\n",
    "        for j in range(count_added+1): # use each of the states added with balls-1 as bases\n",
    "            for i in range(n_arms*2): # Distribute the ball to each bin\n",
    "                new = S[ipb].copy()\n",
    "                \n",
    "                # Get the probability of making this observation\n",
    "                if i%2 == 0:\n",
    "                    p = new[i]/(new[i] + new[i+1])\n",
    "                else:\n",
    "                    p = new[i]/(new[i] + new[i-1])\n",
    "                \n",
    "                # Prepare and add the new state generated by the observation\n",
    "                new[i] += 1 \n",
    "                i = check(S,new)\n",
    "                \n",
    "                if i == -1:\n",
    "                    S = np.vstack((S,new))\n",
    "                    count_added += 1\n",
    "                    state_count += 1\n",
    "                    T1[ipb,state_count] = p \n",
    "                else:\n",
    "                    T1[ipb,i] = p\n",
    "            count_added -= 1\n",
    "            ipb += 1\n",
    "        balls += 1\n",
    "    return S,T1"
   ]
  },
  {
   "cell_type": "code",
   "execution_count": 161,
   "metadata": {
    "collapsed": false
   },
   "outputs": [
    {
     "data": {
      "text/plain": [
       "array([[ 1.,  1.,  1.,  1.],\n",
       "       [ 2.,  1.,  1.,  1.],\n",
       "       [ 1.,  2.,  1.,  1.],\n",
       "       [ 1.,  1.,  2.,  1.],\n",
       "       [ 1.,  1.,  1.,  2.],\n",
       "       [ 3.,  1.,  1.,  1.],\n",
       "       [ 2.,  2.,  1.,  1.],\n",
       "       [ 2.,  1.,  2.,  1.],\n",
       "       [ 2.,  1.,  1.,  2.],\n",
       "       [ 1.,  3.,  1.,  1.],\n",
       "       [ 1.,  2.,  2.,  1.],\n",
       "       [ 1.,  2.,  1.,  2.],\n",
       "       [ 1.,  1.,  3.,  1.],\n",
       "       [ 1.,  1.,  2.,  2.],\n",
       "       [ 1.,  1.,  1.,  3.]])"
      ]
     },
     "execution_count": 161,
     "metadata": {},
     "output_type": "execute_result"
    }
   ],
   "source": [
    "S = states(2,2)[0]\n",
    "S"
   ]
  },
  {
   "cell_type": "code",
   "execution_count": 170,
   "metadata": {
    "collapsed": false
   },
   "outputs": [
    {
     "name": "stdout",
     "output_type": "stream",
     "text": [
      "[[ 0.          0.5         0.5         0.5         0.5         0.          0.\n",
      "   0.          0.          0.          0.          0.          0.          0.\n",
      "   0.        ]\n",
      " [ 0.          0.          0.          0.          0.          0.66666667\n",
      "   0.33333333  0.5         0.5         0.          0.          0.          0.\n",
      "   0.          0.        ]\n",
      " [ 0.          0.          0.          0.          0.          0.\n",
      "   0.33333333  0.          0.          0.66666667  0.5         0.5         0.\n",
      "   0.          0.        ]\n",
      " [ 0.          0.          0.          0.          0.          0.          0.\n",
      "   0.5         0.          0.          0.5         0.          0.66666667\n",
      "   0.33333333  0.        ]\n",
      " [ 0.          0.          0.          0.          0.          0.          0.\n",
      "   0.          0.5         0.          0.          0.5         0.\n",
      "   0.33333333  0.66666667]\n",
      " [ 0.          0.          0.          0.          0.          0.          0.\n",
      "   0.          0.          0.          0.          0.          0.          0.\n",
      "   0.        ]\n",
      " [ 0.          0.          0.          0.          0.          0.          0.\n",
      "   0.          0.          0.          0.          0.          0.          0.\n",
      "   0.        ]\n",
      " [ 0.          0.          0.          0.          0.          0.          0.\n",
      "   0.          0.          0.          0.          0.          0.          0.\n",
      "   0.        ]\n",
      " [ 0.          0.          0.          0.          0.          0.          0.\n",
      "   0.          0.          0.          0.          0.          0.          0.\n",
      "   0.        ]\n",
      " [ 0.          0.          0.          0.          0.          0.          0.\n",
      "   0.          0.          0.          0.          0.          0.          0.\n",
      "   0.        ]\n",
      " [ 0.          0.          0.          0.          0.          0.          0.\n",
      "   0.          0.          0.          0.          0.          0.          0.\n",
      "   0.        ]\n",
      " [ 0.          0.          0.          0.          0.          0.          0.\n",
      "   0.          0.          0.          0.          0.          0.          0.\n",
      "   0.        ]\n",
      " [ 0.          0.          0.          0.          0.          0.          0.\n",
      "   0.          0.          0.          0.          0.          0.          0.\n",
      "   0.        ]\n",
      " [ 0.          0.          0.          0.          0.          0.          0.\n",
      "   0.          0.          0.          0.          0.          0.          0.\n",
      "   0.        ]\n",
      " [ 0.          0.          0.          0.          0.          0.          0.\n",
      "   0.          0.          0.          0.          0.          0.          0.\n",
      "   0.        ]]\n"
     ]
    }
   ],
   "source": [
    "T1 = states(2,2)[1]\n",
    "print(T1)"
   ]
  },
  {
   "cell_type": "code",
   "execution_count": 173,
   "metadata": {
    "collapsed": false
   },
   "outputs": [
    {
     "data": {
      "text/plain": [
       "11628"
      ]
     },
     "execution_count": 173,
     "metadata": {},
     "output_type": "execute_result"
    }
   ],
   "source": [
    "len(states(5,7)[0])"
   ]
  },
  {
   "cell_type": "code",
   "execution_count": 174,
   "metadata": {
    "collapsed": false
   },
   "outputs": [
    {
     "data": {
      "text/plain": [
       "11628.0"
      ]
     },
     "execution_count": 174,
     "metadata": {},
     "output_type": "execute_result"
    }
   ],
   "source": [
    "n_balls = 5\n",
    "n_arms = 7\n",
    "np.sum([n_bib(i,n_arms*2) for i in range(n_balls+1)])"
   ]
  },
  {
   "cell_type": "code",
   "execution_count": null,
   "metadata": {
    "collapsed": true
   },
   "outputs": [],
   "source": []
  }
 ],
 "metadata": {
  "kernelspec": {
   "display_name": "Python 2",
   "language": "python",
   "name": "python2"
  },
  "language_info": {
   "codemirror_mode": {
    "name": "ipython",
    "version": 2
   },
   "file_extension": ".py",
   "mimetype": "text/x-python",
   "name": "python",
   "nbconvert_exporter": "python",
   "pygments_lexer": "ipython2",
   "version": "2.7.11"
  }
 },
 "nbformat": 4,
 "nbformat_minor": 0
}
