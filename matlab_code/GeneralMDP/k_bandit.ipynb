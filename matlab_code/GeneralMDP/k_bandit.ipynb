{
 "cells": [
  {
   "cell_type": "code",
   "execution_count": 6,
   "metadata": {
    "collapsed": false
   },
   "outputs": [],
   "source": [
    "import numpy as np\n",
    "import scipy.misc\n",
    "import scipy.io\n",
    "import matplotlib.pyplot as plt\n",
    "%matplotlib inline\n",
    "from functools import lru_cache"
   ]
  },
  {
   "cell_type": "code",
   "execution_count": 7,
   "metadata": {
    "collapsed": false
   },
   "outputs": [],
   "source": [
    "import generate_state_matrices\n",
    "def states(*args, **kwargs):\n",
    "    S, T, R = generate_state_matrices.states(*args, **kwargs)\n",
    "    T = np.rollaxis(T, 2, 0)\n",
    "    return S, T, R\n",
    "\n",
    "import mdptoolbox, mdptoolbox.example\n",
    "def backward_induction(T, R, N):\n",
    "    fh = mdptoolbox.mdp.FiniteHorizon(T, R, 1, N=N)\n",
    "    fh.run()\n",
    "    return fh.V[:, 0]\n",
    "\n",
    "def s_idx(s):\n",
    "    \"\"\"The index of a row in S\"\"\"\n",
    "    return int(sum(range(int(sum(s)-1))) + s[1] - 1)\n",
    "\n",
    "from joblib import Memory\n",
    "cache = Memory(cachedir='.joblib_cache', verbose=0).cache"
   ]
  },
  {
   "cell_type": "code",
   "execution_count": 39,
   "metadata": {
    "collapsed": false
   },
   "outputs": [
    {
     "data": {
      "text/plain": [
       "0.53333333333333321"
      ]
     },
     "execution_count": 39,
     "metadata": {},
     "output_type": "execute_result"
    }
   ],
   "source": [
    "COST = 0.05\n",
    "MAX_STEPS = int(1/(4*COST)) + 3\n",
    "N_ARM = 2\n",
    "S, T, R = states(MAX_STEPS, N_ARM, cost=COST)\n",
    "\n",
    "# The one-bandit case is used to compute blinkered Q values\n",
    "S1, T1, R1 = states(MAX_STEPS, 1, cost=COST)\n",
    "R1_alt = R1.copy()  # we change this for each new V1\n",
    "\n",
    "@cache\n",
    "def V1(constant):\n",
    "    # betting chooses the constant if it's better than the bandit's expected reward\n",
    "    R1_alt[:, -1] = np.maximum(constant, R1[:, -1])\n",
    "    R1_alt[-1, -1] = 0\n",
    "    return backward_induction(T1, R1_alt, N=MAX_STEPS)\n",
    "\n",
    "@lru_cache(None)\n",
    "def Q1(s, a, constant):\n",
    "    if a == 1:  # bet\n",
    "        return max(R1[s,1], constant)\n",
    "    else:  # observe\n",
    "        V = V1(constant)\n",
    "        return T1[a, s] @ V - COST\n",
    "\n",
    "@lru_cache(None)\n",
    "def expected_values(s):\n",
    "    hits = S[s][0:None:2]\n",
    "    misses = S[s][1:None:2]\n",
    "    return hits/(misses+hits)\n",
    "\n",
    "def Q_blinker(s, a):\n",
    "    if a == N_ARM:\n",
    "        return max(expected_values(s))\n",
    "\n",
    "    # alternative is selecting current best\n",
    "    mu = expected_values(s)\n",
    "    mu[a] = -np.inf\n",
    "    alternative = mu.max()\n",
    "    \n",
    "    idx = a * 2\n",
    "    s_arm = s_idx(S[s][[idx, idx+1]])\n",
    "    return Q1(s_arm, 0, alternative)\n",
    "\n",
    "\n",
    "Q_blinker(0, 0)"
   ]
  },
  {
   "cell_type": "code",
   "execution_count": 193,
   "metadata": {
    "collapsed": false
   },
   "outputs": [],
   "source": [
    "s = states(4,2,cost=0.01)\n",
    "a = {'states':s[0],'transition':s[1],'rewards':s[2]}\n",
    "scipy.io.savemat('./file',a)"
   ]
  }
 ],
 "metadata": {
  "anaconda-cloud": {},
  "kernelspec": {
   "display_name": "Python [default]",
   "language": "python",
   "name": "python3"
  },
  "language_info": {
   "codemirror_mode": {
    "name": "ipython",
    "version": 3
   },
   "file_extension": ".py",
   "mimetype": "text/x-python",
   "name": "python",
   "nbconvert_exporter": "python",
   "pygments_lexer": "ipython3",
   "version": "3.5.2"
  }
 },
 "nbformat": 4,
 "nbformat_minor": 0
}
