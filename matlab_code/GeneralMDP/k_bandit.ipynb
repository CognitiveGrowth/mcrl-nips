{
 "cells": [
  {
   "cell_type": "code",
   "execution_count": 1,
   "metadata": {
    "collapsed": false
   },
   "outputs": [],
   "source": [
    "import numpy as np\n",
    "import scipy.misc\n",
    "import scipy.io\n",
    "import matplotlib.pyplot as plt\n",
    "%matplotlib inline\n",
    "from functools import lru_cache"
   ]
  },
  {
   "cell_type": "code",
   "execution_count": 2,
   "metadata": {
    "collapsed": true
   },
   "outputs": [],
   "source": [
    "import generate_state_matrices\n",
    "def states(*args, **kwargs):\n",
    "    S, T, R = generate_state_matrices.states(*args, **kwargs)\n",
    "    T = np.rollaxis(T, 2, 0)\n",
    "    return S, T, R\n",
    "\n",
    "import mdptoolbox, mdptoolbox.example\n",
    "def backward_induction(T, R, N):\n",
    "    fh = mdptoolbox.mdp.FiniteHorizon(T, R, 1, N=N)\n",
    "    fh.run()\n",
    "    return fh.V[:, 0]\n",
    "\n",
    "def s_idx(s):\n",
    "    \"\"\"The index of a row in S\"\"\"\n",
    "    return int(sum(range(int(sum(s)-1))) + s[1] - 1)\n",
    "\n",
    "from joblib import Memory\n",
    "cache = Memory(cachedir='.joblib_cache', verbose=0).cache"
   ]
  },
  {
   "cell_type": "code",
   "execution_count": 3,
   "metadata": {
    "collapsed": false
   },
   "outputs": [
    {
     "name": "stdout",
     "output_type": "stream",
     "text": [
      "WARNING: check conditions of convergence. With no discount, convergence can not be assumed.\n"
     ]
    },
    {
     "data": {
      "text/plain": [
       "0.5767619047619047"
      ]
     },
     "execution_count": 3,
     "metadata": {},
     "output_type": "execute_result"
    }
   ],
   "source": [
    "from collections import namedtuple\n",
    "\n",
    "Blinker = namedtuple('Blinker', ('Q', 'S', 'T', 'R'))\n",
    "Blinker.__repr__ = lambda s: 'Blinker'\n",
    "\n",
    "def blinker(N_ARM, COST, MAX_STEPS=None):\n",
    "    \"\"\"Returns a blinker-approximated Q function.\"\"\"\n",
    "    MAX_STEPS = MAX_STEPS or int(1/(4*COST)) + 3\n",
    "    S, T, R = states(MAX_STEPS, N_ARM, cost=COST)\n",
    "    params = (N_ARM, COST, MAX_STEPS)\n",
    "\n",
    "    # The one-bandit case is used to compute blinkered Q values\n",
    "    S1, T1, R1 = states(MAX_STEPS, 1, cost=COST)\n",
    "    R1_alt = R1.copy()  # we change this for each new V1\n",
    "\n",
    "    @cache\n",
    "    def V1(constant, dummy):\n",
    "        # betting chooses the constant if it's better than the bandit's expected reward\n",
    "        R1_alt[:, -1] = np.maximum(constant, R1[:, -1])\n",
    "        R1_alt[-1, -1] = 0\n",
    "        return backward_induction(T1, R1_alt, N=MAX_STEPS+1)\n",
    "\n",
    "    @lru_cache(None)\n",
    "    def Q1(s, a, constant):\n",
    "        if a == 1:  # bet\n",
    "            return max(R1[s,1], constant)\n",
    "        else:  # observe\n",
    "            V = V1(constant, params)\n",
    "            return T1[a, s] @ V - COST\n",
    "\n",
    "    @lru_cache(None)\n",
    "    def expected_values(s):\n",
    "        hits = S[s][0:None:2]\n",
    "        misses = S[s][1:None:2]\n",
    "        return hits/(misses+hits)\n",
    "\n",
    "    def Q(s, a):\n",
    "        if a == N_ARM:\n",
    "            return max(expected_values(s))\n",
    "\n",
    "        # alternative is selecting current best\n",
    "        mu = np.array(expected_values(s))\n",
    "        mu[a] = -np.inf\n",
    "        alternative = mu.max()\n",
    "\n",
    "        idx = a * 2\n",
    "        s_arm = s_idx(S[s][[idx, idx+1]])\n",
    "        return Q1(s_arm, 0, alternative)\n",
    "    \n",
    "    return Blinker(Q, S, T, R)"
   ]
  },
  {
   "cell_type": "code",
   "execution_count": 4,
   "metadata": {
    "collapsed": false
   },
   "outputs": [],
   "source": [
    "%%capture\n",
    "result = {}\n",
    "for n_arm in range(2, 6):\n",
    "    b = blinker(N_ARM=n_arm, COST=0.01, MAX_STEPS=6)\n",
    "    result['Q_blinker_{}'.format(n_arm)] = Q = np.zeros(b.R.shape)\n",
    "    n_state, n_action = b.R.shape\n",
    "    for s in range(n_state):\n",
    "        for a in range(n_action):\n",
    "            Q[s, a] = b.Q(s, a)\n",
    "            "
   ]
  },
  {
   "cell_type": "code",
   "execution_count": 5,
   "metadata": {
    "collapsed": false
   },
   "outputs": [],
   "source": [
    "scipy.io.savemat('../../results/Q_blinkered.mat', result)"
   ]
  }
 ],
 "metadata": {
  "anaconda-cloud": {},
  "kernelspec": {
   "display_name": "Python [default]",
   "language": "python",
   "name": "python3"
  },
  "language_info": {
   "codemirror_mode": {
    "name": "ipython",
    "version": 3
   },
   "file_extension": ".py",
   "mimetype": "text/x-python",
   "name": "python",
   "nbconvert_exporter": "python",
   "pygments_lexer": "ipython3",
   "version": "3.5.2"
  }
 },
 "nbformat": 4,
 "nbformat_minor": 0
}
