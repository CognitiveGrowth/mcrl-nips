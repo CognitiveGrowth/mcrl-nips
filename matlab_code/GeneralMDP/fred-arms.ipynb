{
 "cells": [
  {
   "cell_type": "code",
   "execution_count": 8,
   "metadata": {
    "collapsed": false
   },
   "outputs": [],
   "source": [
    "import numpy as np\n",
    "import scipy.misc\n",
    "import scipy.io\n",
    "import matplotlib.pyplot as plt\n",
    "%matplotlib inline"
   ]
  },
  {
   "cell_type": "code",
   "execution_count": 148,
   "metadata": {
    "collapsed": false
   },
   "outputs": [],
   "source": [
    "import generate_state_matrices\n",
    "def states(*args, **kwargs):\n",
    "    S, T, R = generate_state_matrices.states(*args, **kwargs)\n",
    "    T = np.rollaxis(T, 2, 0)\n",
    "    return S, T, R\n",
    "\n",
    "import mdptoolbox, mdptoolbox.example\n",
    "def backward_induction(T, R, N):\n",
    "    fh = mdptoolbox.mdp.FiniteHorizon(T, R, 1, N=N)\n",
    "    fh.run()\n",
    "    return fh.V[:, 0]\n",
    "\n",
    "from joblib import Memory\n",
    "cache = Memory(cachedir='.joblib_cache', verbose=0).cache"
   ]
  },
  {
   "cell_type": "code",
   "execution_count": 161,
   "metadata": {
    "collapsed": false
   },
   "outputs": [
    {
     "name": "stdout",
     "output_type": "stream",
     "text": [
      "WARNING: check conditions of convergence. With no discount, convergence can not be assumed.\n"
     ]
    },
    {
     "data": {
      "text/plain": [
       "array([ 0.61      ,  0.66666667,  0.57333333,  0.66666667,  0.57333333,\n",
       "        0.75      ,  0.5       ,  0.66666667,  0.66666667,  0.5       ,\n",
       "        0.66666667,  0.5       ,  0.75      ,  0.5       ,  0.5       ,  0.        ])"
      ]
     },
     "execution_count": 161,
     "metadata": {},
     "output_type": "execute_result"
    }
   ],
   "source": [
    "S,T,R = states(2, 2, cost=0.01, constantArm=0.5)\n",
    "backward_induction(T, R, 4)"
   ]
  },
  {
   "cell_type": "code",
   "execution_count": 17,
   "metadata": {
    "collapsed": false
   },
   "outputs": [],
   "source": [
    "def expected_values(s):\n",
    "    hits = s[0:None:2]\n",
    "    misses = s[1:None:2]\n",
    "    return hits/(misses+hits)"
   ]
  },
  {
   "cell_type": "code",
   "execution_count": 179,
   "metadata": {
    "collapsed": false
   },
   "outputs": [
    {
     "data": {
      "text/plain": [
       "array([[-0.05      ,  0.5       ,  0.        ],\n",
       "       [-0.05      ,  0.66666667,  0.        ],\n",
       "       [-0.05      ,  0.33333333,  0.        ],\n",
       "       [-0.05      ,  0.75      ,  0.        ],\n",
       "       [-0.05      ,  0.5       ,  0.        ],\n",
       "       [-0.05      ,  0.25      ,  0.        ],\n",
       "       [ 0.        ,  0.        ,  0.        ]])"
      ]
     },
     "execution_count": 179,
     "metadata": {},
     "output_type": "execute_result"
    }
   ],
   "source": []
  },
  {
   "cell_type": "code",
   "execution_count": 200,
   "metadata": {
    "collapsed": false
   },
   "outputs": [
    {
     "data": {
      "text/plain": [
       "array([ 0.5       ,  0.66666667,  0.33333333,  0.75      ,  0.5       ,\n",
       "        0.25      ,  0.8       ,  0.6       ,  0.4       ,  0.2       ,\n",
       "        0.83333333,  0.66666667,  0.5       ,  0.33333333,  0.16666667,\n",
       "        0.85714286,  0.71428571,  0.57142857,  0.42857143,  0.28571429,\n",
       "        0.14285714,  0.875     ,  0.75      ,  0.625     ,  0.5       ,\n",
       "        0.375     ,  0.25      ,  0.125     ,  0.88888889,  0.77777778,\n",
       "        0.66666667,  0.55555556,  0.44444444,  0.33333333,  0.22222222,\n",
       "        0.11111111,  0.9       ,  0.8       ,  0.7       ,  0.6       ,\n",
       "        0.5       ,  0.4       ,  0.3       ,  0.2       ,  0.1       ,  0.        ])"
      ]
     },
     "execution_count": 200,
     "metadata": {},
     "output_type": "execute_result"
    }
   ],
   "source": [
    "R1[:, -1]"
   ]
  },
  {
   "cell_type": "code",
   "execution_count": 208,
   "metadata": {
    "collapsed": false
   },
   "outputs": [
    {
     "data": {
      "text/plain": [
       "0.5"
      ]
     },
     "execution_count": 208,
     "metadata": {},
     "output_type": "execute_result"
    }
   ],
   "source": []
  },
  {
   "cell_type": "code",
   "execution_count": 204,
   "metadata": {
    "collapsed": false
   },
   "outputs": [
    {
     "name": "stdout",
     "output_type": "stream",
     "text": [
      "WARNING: check conditions of convergence. With no discount, convergence can not be assumed.\n"
     ]
    },
    {
     "data": {
      "text/plain": [
       "array([ 0.5       ,  0.66666667,  0.33333333,  0.75      ,  0.5       ,\n",
       "        0.25      ,  0.8       ,  0.6       ,  0.4       ,  0.2       ,\n",
       "        0.83333333,  0.66666667,  0.5       ,  0.33333333,  0.16666667,\n",
       "        0.85714286,  0.71428571,  0.57142857,  0.42857143,  0.28571429,\n",
       "        0.14285714,  0.875     ,  0.75      ,  0.625     ,  0.5       ,\n",
       "        0.375     ,  0.25      ,  0.125     ,  0.88888889,  0.77777778,\n",
       "        0.66666667,  0.55555556,  0.44444444,  0.33333333,  0.22222222,\n",
       "        0.11111111,  0.9       ,  0.8       ,  0.7       ,  0.6       ,\n",
       "        0.5       ,  0.4       ,  0.3       ,  0.2       ,  0.1       ,  0.        ])"
      ]
     },
     "execution_count": 204,
     "metadata": {},
     "output_type": "execute_result"
    }
   ],
   "source": [
    "\n",
    "backward_induction(T1, R1, 100)"
   ]
  },
  {
   "cell_type": "code",
   "execution_count": 226,
   "metadata": {
    "collapsed": false
   },
   "outputs": [
    {
     "name": "stdout",
     "output_type": "stream",
     "text": [
      "WARNING: check conditions of convergence. With no discount, convergence can not be assumed.\n"
     ]
    },
    {
     "data": {
      "text/plain": [
       "0.75"
      ]
     },
     "execution_count": 226,
     "metadata": {},
     "output_type": "execute_result"
    }
   ],
   "source": [
    "COST = 0.05\n",
    "MAX_STEPS = int(1/(4*COST)) + 3\n",
    "S1, T1, R1 = states(MAX_STEPS, 1, cost=COST, constantArm=-1)\n",
    "R1_alt = R1.copy()\n",
    "\n",
    "def s_idx(s):\n",
    "    return int(sum(range(int(sum(s)-1))) + s[1] - 1)\n",
    "\n",
    "# @cache\n",
    "def V1(constant):\n",
    "    R1_alt[:, -1] = np.maximum(constant, R1[:, -1])\n",
    "    R1_alt[-1, -1] = 0\n",
    "    return backward_induction(T1, R1_alt, N=MAX_STEPS)\n",
    "\n",
    "def Q1(s, a, constant):\n",
    "    if a == 1:  # bet\n",
    "        return max(s[0] / sum(s), constant)\n",
    "    else:  # observe\n",
    "        V = V1(constant)\n",
    "        return T1[a, s_idx(s)] @ V - COST\n",
    "\n",
    "N_ARM = 2\n",
    "S, T, R = states(MAX_STEPS, N_ARM, cost=COST)\n",
    "\n",
    "def Q_blinker(s, a):\n",
    "    s = np.array(s)\n",
    "    if a == N_ARM:\n",
    "        return max(expected_values(s))\n",
    "\n",
    "    # alternative is selecting current best\n",
    "    mu = expected_values(s)\n",
    "    mu[a] = -np.inf\n",
    "    alternative = mu.max()\n",
    "    \n",
    "    idx = a * 2\n",
    "    s_arm = s[[idx, idx+1]]\n",
    "    return Q1(s_arm, 0, alternative)\n",
    "\n",
    "\n",
    "Q_blinker([1,1,1,1], 1)"
   ]
  },
  {
   "cell_type": "code",
   "execution_count": 28,
   "metadata": {
    "collapsed": false
   },
   "outputs": [
    {
     "data": {
      "text/plain": [
       "array([ 1.,  1.])"
      ]
     },
     "execution_count": 28,
     "metadata": {},
     "output_type": "execute_result"
    }
   ],
   "source": [
    "s, a = 0, 0\n",
    "idx = a * 2\n",
    "s_arm = to_int_s(S[s][[idx, idx+1]])\n",
    "\n",
    "S[s][[idx, idx+1]]\n",
    "# mu = expected_values(S[s])\n",
    "# mu[s] = -np.inf\n",
    "# alternative = mu.max()\n"
   ]
  },
  {
   "cell_type": "code",
   "execution_count": null,
   "metadata": {
    "collapsed": true
   },
   "outputs": [],
   "source": [
    "def Q1(s, a, constant=0):\n",
    "    if a == 1:  # bet on the one arm\n",
    "        return max(s[0] / s.sum(), constant)\n",
    "    else:  # observe\n",
    "        alternative = s[1] / s.sum()  \n",
    "        V = V1(alternative)\n",
    "        return T[a, s] @ V - COST\n"
   ]
  },
  {
   "cell_type": "code",
   "execution_count": 287,
   "metadata": {
    "collapsed": true
   },
   "outputs": [],
   "source": [
    "def Q(s, a):\n",
    "    return R[s, a] + T[a, s] @ V"
   ]
  },
  {
   "cell_type": "code",
   "execution_count": null,
   "metadata": {
    "collapsed": true
   },
   "outputs": [],
   "source": [
    "def Q_one()"
   ]
  },
  {
   "cell_type": "code",
   "execution_count": 205,
   "metadata": {
    "collapsed": false
   },
   "outputs": [
    {
     "name": "stdout",
     "output_type": "stream",
     "text": [
      "WARNING: check conditions of convergence. With no discount, convergence can not be assumed.\n",
      "induction 0.588333333333\n"
     ]
    }
   ],
   "source": [
    "\n",
    "\n",
    "def Q(s, a):\n",
    "    \n",
    "    \n",
    "    \n",
    "# print('recursion', V(2))\n",
    "print('induction', backward_induction(T, R))"
   ]
  },
  {
   "cell_type": "code",
   "execution_count": null,
   "metadata": {
    "collapsed": true
   },
   "outputs": [],
   "source": [
    "from functools import lru_cache\n",
    "\n",
    "n_actions = len(R[1])\n",
    "actions = range(n_actions)\n",
    "final_state = len(T) - 1\n",
    "\n",
    "@lru_cache(None)\n",
    "def V(s):\n",
    "    if s == final_state:\n",
    "        return 0\n",
    "    return max(Q(s, a) for a in actions)\n",
    "\n",
    "@lru_cache(None)\n",
    "def Q(s, a):\n",
    "    s1_options = T[s, :, a].nonzero()[0]\n",
    "    s1_p = T[s, s1_options, a]\n",
    "    return R[s, a] + sum(p * V(s1) for s1, p in zip(s1_options, s1_p))"
   ]
  },
  {
   "cell_type": "code",
   "execution_count": null,
   "metadata": {
    "collapsed": true
   },
   "outputs": [],
   "source": []
  },
  {
   "cell_type": "code",
   "execution_count": 193,
   "metadata": {
    "collapsed": false
   },
   "outputs": [],
   "source": [
    "s = states(4,2,cost=0.01)\n",
    "a = {'states':s[0],'transition':s[1],'rewards':s[2]}\n",
    "scipy.io.savemat('./file',a)"
   ]
  }
 ],
 "metadata": {
  "anaconda-cloud": {},
  "kernelspec": {
   "display_name": "Python [default]",
   "language": "python",
   "name": "python3"
  },
  "language_info": {
   "codemirror_mode": {
    "name": "ipython",
    "version": 3
   },
   "file_extension": ".py",
   "mimetype": "text/x-python",
   "name": "python",
   "nbconvert_exporter": "python",
   "pygments_lexer": "ipython3",
   "version": "3.5.2"
  }
 },
 "nbformat": 4,
 "nbformat_minor": 0
}
